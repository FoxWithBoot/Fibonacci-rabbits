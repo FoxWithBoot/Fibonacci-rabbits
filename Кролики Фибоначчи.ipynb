{
  "nbformat": 4,
  "nbformat_minor": 0,
  "metadata": {
    "colab": {
      "provenance": [],
      "authorship_tag": "ABX9TyP21Ifijp+34doLna3k4rs/",
      "include_colab_link": true
    },
    "kernelspec": {
      "name": "python3",
      "display_name": "Python 3"
    },
    "language_info": {
      "name": "python"
    }
  },
  "cells": [
    {
      "cell_type": "markdown",
      "metadata": {
        "id": "view-in-github",
        "colab_type": "text"
      },
      "source": [
        "<a href=\"https://colab.research.google.com/github/FoxWithBoot/Fibonacci-rabbits/blob/main/%D0%9A%D1%80%D0%BE%D0%BB%D0%B8%D0%BA%D0%B8%20%D0%A4%D0%B8%D0%B1%D0%BE%D0%BD%D0%B0%D1%87%D1%87%D0%B8.ipynb\" target=\"_parent\"><img src=\"https://colab.research.google.com/assets/colab-badge.svg\" alt=\"Open In Colab\"/></a>"
      ]
    },
    {
      "cell_type": "markdown",
      "source": [
        "# Кролики Фибоначчи (числа Фибоначчи)"
      ],
      "metadata": {
        "id": "oCwSb2BO9bGe"
      }
    },
    {
      "cell_type": "code",
      "execution_count": null,
      "metadata": {
        "id": "WRiBlboy9Hr_"
      },
      "outputs": [],
      "source": [
        "def rabbits(generation):\n",
        "  young=1\n",
        "  old=0\n",
        "  for i in range(generation):\n",
        "    old,young = old+young,old\n",
        "  return old\n",
        "\n",
        "rabbits(10)"
      ]
    },
    {
      "cell_type": "markdown",
      "source": [
        "Тест"
      ],
      "metadata": {
        "id": "25NEdpDH9akO"
      }
    },
    {
      "cell_type": "code",
      "source": [
        "def fib(n):\n",
        "  if n<2:\n",
        "    return n\n",
        "  return fib(n-1)+fib(n-2)\n",
        "\n",
        "fib(10)"
      ],
      "metadata": {
        "id": "NLx9QJW89KK5"
      },
      "execution_count": null,
      "outputs": []
    }
  ]
}